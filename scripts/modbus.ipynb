{
 "cells": [
  {
   "cell_type": "markdown",
   "metadata": {},
   "source": [
    "Conexión al variador utilizando conversor RS232-RS485. Lee el estado de 4 registros indicados en el manual de comunicación modbus."
   ]
  },
  {
   "cell_type": "code",
   "execution_count": 1,
   "metadata": {},
   "outputs": [
    {
     "name": "stdout",
     "output_type": "stream",
     "text": [
      "[40, 600, 500, 50]\n"
     ]
    }
   ],
   "source": [
    "import pymodbus\n",
    "from pymodbus.pdu import ModbusRequest\n",
    "from pymodbus.client.sync import ModbusSerialClient as ModbusClient\n",
    "from pymodbus.transaction import ModbusRtuFramer\n",
    "\n",
    "client = ModbusClient(method='rtu', port=\"COM6\", baudrate=19200, parity='E', timeout=0.1)\n",
    "connection = client.connect()\n",
    "\n",
    "read_vals  = client.read_holding_registers(3102, 4, unit=1) # start_address, count, slave_id\n",
    "print(read_vals.registers)"
   ]
  },
  {
   "cell_type": "markdown",
   "metadata": {},
   "source": [
    "Cada vez que se utiliza el método read_holding_registers() se establece la comunicación, no es necesario configurar la configuración o iniciarla luego de ejecutar la celda anterior."
   ]
  },
  {
   "cell_type": "code",
   "execution_count": 7,
   "metadata": {},
   "outputs": [
    {
     "name": "stdout",
     "output_type": "stream",
     "text": [
      "[40, 600, 500, 50]\n"
     ]
    }
   ],
   "source": [
    "read_vals  = client.read_holding_registers(3102, 4, unit=1) # start_address, count, slave_id\n",
    "print(read_vals.registers)"
   ]
  },
  {
   "cell_type": "markdown",
   "metadata": {},
   "source": [
    "cerrar la conexión"
   ]
  },
  {
   "cell_type": "code",
   "execution_count": 8,
   "metadata": {},
   "outputs": [],
   "source": [
    "client.close()"
   ]
  },
  {
   "cell_type": "code",
   "execution_count": 55,
   "metadata": {},
   "outputs": [
    {
     "name": "stdout",
     "output_type": "stream",
     "text": [
      "[2189]\n"
     ]
    }
   ],
   "source": [
    "read_vals  = client.read_holding_registers(3207, 1, unit=1) # start_address, count, slave_id\n",
    "print(read_vals.registers)"
   ]
  },
  {
   "cell_type": "code",
   "execution_count": 65,
   "metadata": {},
   "outputs": [],
   "source": [
    "import matplotlib.pyplot as plt\n",
    "import numpy as np\n",
    "import time\n"
   ]
  },
  {
   "cell_type": "markdown",
   "metadata": {},
   "source": [
    "Gráfica de la tensión de red, primero se adquieren los datos y luego se crea el gráfico."
   ]
  },
  {
   "cell_type": "code",
   "execution_count": 67,
   "metadata": {},
   "outputs": [
    {
     "data": {
      "text/plain": [
       "<matplotlib.collections.PathCollection at 0x1a37f876bb0>"
      ]
     },
     "execution_count": 67,
     "metadata": {},
     "output_type": "execute_result"
    },
    {
     "data": {
      "image/png": "[encoded data removed]",
      "text/plain": [
       "<Figure size 432x288 with 1 Axes>"
      ]
     },
     "metadata": {
      "needs_background": "light"
     },
     "output_type": "display_data"
    }
   ],
   "source": [
    "plt.ion()\n",
    "fig=plt.figure()\n",
    "plt.axis([0,100,0,230])\n",
    "contador = 0\n",
    "x=list()\n",
    "y=list()\n",
    "while contador<100:\n",
    "    read = client.read_holding_registers(3207, 1, unit=1)\n",
    "    voltaje = read.registers[0]/10\n",
    "    x.append(contador)\n",
    "    y.append(voltaje)\n",
    "    contador +=1\n",
    "    time.sleep(0.3)\n",
    "\n",
    "plt.scatter(x,y)"
   ]
  },
  {
   "cell_type": "code",
   "execution_count": 74,
   "metadata": {},
   "outputs": [
    {
     "data": {
      "text/plain": [
       "Text(0, 0.5, 'voltaje [V]')"
      ]
     },
     "execution_count": 74,
     "metadata": {},
     "output_type": "execute_result"
    },
    {
     "data": {
      "image/png": "[encoded data removed]",
      "text/plain": [
       "<Figure size 432x288 with 1 Axes>"
      ]
     },
     "metadata": {
      "needs_background": "light"
     },
     "output_type": "display_data"
    }
   ],
   "source": [
    "fig2=plt.figure()\n",
    "plt.plot(x,y,'r')\n",
    "plt.axis\n",
    "plt.title('voltaje de red')\n",
    "plt.xlabel('muestra')\n",
    "plt.ylabel('voltaje [V]')"
   ]
  },
  {
   "cell_type": "code",
   "execution_count": 52,
   "metadata": {},
   "outputs": [
    {
     "data": {
      "text/plain": [
       "2186"
      ]
     },
     "execution_count": 52,
     "metadata": {},
     "output_type": "execute_result"
    }
   ],
   "source": [
    "voltaje[0]"
   ]
  },
  {
   "cell_type": "markdown",
   "metadata": {},
   "source": [
    "Lectura de registros binarios"
   ]
  },
  {
   "cell_type": "code",
   "execution_count": null,
   "metadata": {},
   "outputs": [],
   "source": [
    "from pymodbus.payload import BinaryPayloadDecoder\n",
    "from pymodbus.constants import Endian"
   ]
  },
  {
   "cell_type": "code",
   "execution_count": 92,
   "metadata": {},
   "outputs": [
    {
     "name": "stdout",
     "output_type": "stream",
     "text": [
      "[False, False, False, True, False, False, False, False]\n"
     ]
    }
   ],
   "source": [
    "read_vals  = client.read_holding_registers(3207, 1, unit=1) # start_address, count, slave_id\n",
    "print(BinaryPayloadDecoder.fromRegisters(read_vals.registers, Endian.Big, Endian.Little).decode_bits())"
   ]
  }
 ],
 "metadata": {
  "interpreter": {
   "hash": "b977b1c54e1ae8995c85ab62d32bcef0fe2b3afde370ca3cc67a760e8e35de10"
  },
  "kernelspec": {
   "display_name": "Python 3.8.7 64-bit",
   "language": "python",
   "name": "python3"
  },
  "language_info": {
   "codemirror_mode": {
    "name": "ipython",
    "version": 3
   },
   "file_extension": ".py",
   "mimetype": "text/x-python",
   "name": "python",
   "nbconvert_exporter": "python",
   "pygments_lexer": "ipython3",
   "version": "3.8.7"
  },
  "orig_nbformat": 4
 },
 "nbformat": 4,
 "nbformat_minor": 2
}
